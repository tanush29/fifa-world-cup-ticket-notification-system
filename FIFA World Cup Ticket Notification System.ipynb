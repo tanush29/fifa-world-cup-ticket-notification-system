{
 "cells": [
  {
   "cell_type": "code",
   "execution_count": 1,
   "id": "34220291",
   "metadata": {},
   "outputs": [],
   "source": [
    "import smtplib\n",
    "import getpass\n",
    "import time\n",
    "import hashlib\n",
    "from urllib.request import urlopen, Request\n",
    "from datetime import datetime as dt"
   ]
  },
  {
   "cell_type": "code",
   "execution_count": 2,
   "id": "e4488b61",
   "metadata": {},
   "outputs": [
    {
     "name": "stdout",
     "output_type": "stream",
     "text": [
      "Enter Email ID: tanush29@gmail.com\n",
      "Enter Application Specific Password: ········\n"
     ]
    }
   ],
   "source": [
    "gmail_user = input(\"Enter Email ID: \")\n",
    "gmail_password = getpass.getpass(\"Enter Application Specific Password: \")"
   ]
  },
  {
   "cell_type": "code",
   "execution_count": 3,
   "id": "9066be79",
   "metadata": {},
   "outputs": [
    {
     "name": "stdout",
     "output_type": "stream",
     "text": [
      "Enter Email ID of recipient: tanush29@gmail.com\n",
      "Do you want to add more recipients (Enter Yes/No): YEs\n",
      "Enter Email ID of recipient: shreyas.iyer11@gmail.com\n",
      "Do you want to add more recipients (Enter Yes/No): Yes\n",
      "Enter Email ID of recipient: shreekara97@gmail.com\n",
      "Do you want to add more recipients (Enter Yes/No): Yes\n",
      "Enter Email ID of recipient: siddesh9090@gmail.com\n",
      "Do you want to add more recipients (Enter Yes/No): Yes\n",
      "Enter Email ID of recipient: trigger@applet.ifttt.com\n",
      "Do you want to add more recipients (Enter Yes/No): No\n"
     ]
    }
   ],
   "source": [
    "to = []\n",
    "input_flag = True\n",
    "while input_flag:\n",
    "    email_to = input(\"Enter Email ID of recipient: \")\n",
    "    to.append(email_to)\n",
    "    input_emails = input(\"Do you want to add more recipients (Enter Yes/No): \")\n",
    "    if str.lower(input_emails) == 'no':\n",
    "        input_flag = False"
   ]
  },
  {
   "cell_type": "code",
   "execution_count": 4,
   "id": "d0cc336d",
   "metadata": {},
   "outputs": [],
   "source": [
    "sent_from = gmail_user\n",
    "subject = 'FIFA World Cup Tickets Update Detected'\n",
    "body = 'There has been a change in the FIFA World Cup Page. Please check the website to check and book your tickets. - automated message'"
   ]
  },
  {
   "cell_type": "code",
   "execution_count": 5,
   "id": "4956dbd0",
   "metadata": {},
   "outputs": [],
   "source": [
    "email_text = \"\"\"\\\n",
    "From: %s\n",
    "To: %s\n",
    "Subject: %s\n",
    "\n",
    "%s\n",
    "\"\"\" % (sent_from, \", \".join(to), subject, body)"
   ]
  },
  {
   "cell_type": "code",
   "execution_count": 6,
   "id": "b06cc490",
   "metadata": {},
   "outputs": [],
   "source": [
    "def mailSender():\n",
    "    try:\n",
    "        smtp_server = smtplib.SMTP_SSL('smtp.gmail.com', 465)\n",
    "        smtp_server.ehlo()\n",
    "        smtp_server.login(gmail_user, gmail_password)\n",
    "        smtp_server.sendmail(sent_from, to, email_text)\n",
    "        smtp_server.close()\n",
    "        print (\"Email sent successfully!\")\n",
    "    except Exception as ex:\n",
    "        print (\"Something went wrong….\",ex)"
   ]
  },
  {
   "cell_type": "code",
   "execution_count": 7,
   "id": "f18da3a3",
   "metadata": {},
   "outputs": [
    {
     "name": "stdout",
     "output_type": "stream",
     "text": [
      "Enter website to monitor: https://www.fifa.com/tournaments/mens/worldcup/qatar2022/tickets\n"
     ]
    }
   ],
   "source": [
    "# setting the URL you want to monitor\n",
    "url_to_check = input(\"Enter website to monitor: \")\n",
    "url = Request(url_to_check,\n",
    "              headers={'User-Agent': 'Mozilla/5.0'})"
   ]
  },
  {
   "cell_type": "code",
   "execution_count": null,
   "id": "28528e59",
   "metadata": {},
   "outputs": [
    {
     "name": "stdout",
     "output_type": "stream",
     "text": [
      "Started Running: 2022-06-18 11:12:48.095193\n"
     ]
    }
   ],
   "source": [
    "# to perform a GET request and load the\n",
    "# content of the website and store it in a var\n",
    "response = urlopen(url).read()\n",
    "\n",
    "# to create the initial hash\n",
    "currentHash = hashlib.sha224(response).hexdigest()\n",
    "print(\"Started Running: \" + str(dt.now()))\n",
    "time.sleep(1)\n",
    "while True:\n",
    "    try:\n",
    "        # perform the get request and store it in a var\n",
    "        response = urlopen(url).read()\n",
    "         \n",
    "        # create a hash\n",
    "        currentHash = hashlib.sha224(response).hexdigest()\n",
    "         \n",
    "        # wait for 30 seconds\n",
    "        time.sleep(1)\n",
    "         \n",
    "        # perform the get request\n",
    "        response = urlopen(url).read()\n",
    "         \n",
    "        # create a new hash\n",
    "        newHash = hashlib.sha224(response).hexdigest()\n",
    " \n",
    "        # check if new hash is same as the previous hash\n",
    "        if newHash == currentHash:\n",
    "            continue\n",
    " \n",
    "        # if something changed in the hashes\n",
    "        else:\n",
    "            # notify\n",
    "            print(\"Website Updated: \" + str(dt.now()))\n",
    "            \n",
    "            mailSender()\n",
    " \n",
    "            # again read the website\n",
    "            response = urlopen(url).read()\n",
    " \n",
    "            # create a hash\n",
    "            currentHash = hashlib.sha224(response).hexdigest()\n",
    " \n",
    "            # wait for 30 seconds\n",
    "            time.sleep(1)\n",
    "            continue\n",
    "             \n",
    "    # To handle exceptions\n",
    "    except Exception as e:\n",
    "        print(\"Error Encountered: \" + str(dt.now()))"
   ]
  }
 ],
 "metadata": {
  "kernelspec": {
   "display_name": "Python 3 (ipykernel)",
   "language": "python",
   "name": "python3"
  },
  "language_info": {
   "codemirror_mode": {
    "name": "ipython",
    "version": 3
   },
   "file_extension": ".py",
   "mimetype": "text/x-python",
   "name": "python",
   "nbconvert_exporter": "python",
   "pygments_lexer": "ipython3",
   "version": "3.8.12"
  }
 },
 "nbformat": 4,
 "nbformat_minor": 5
}
